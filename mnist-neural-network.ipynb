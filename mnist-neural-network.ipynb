{
 "cells": [
  {
   "cell_type": "code",
   "execution_count": 1,
   "id": "3ba90971",
   "metadata": {
    "_cell_guid": "b1076dfc-b9ad-4769-8c92-a6c4dae69d19",
    "_uuid": "8f2839f25d086af736a60e9eeb907d3b93b6e0e5",
    "execution": {
     "iopub.execute_input": "2024-03-24T01:19:05.369053Z",
     "iopub.status.busy": "2024-03-24T01:19:05.368688Z",
     "iopub.status.idle": "2024-03-24T01:19:06.198826Z",
     "shell.execute_reply": "2024-03-24T01:19:06.197821Z"
    },
    "papermill": {
     "duration": 0.837413,
     "end_time": "2024-03-24T01:19:06.201394",
     "exception": false,
     "start_time": "2024-03-24T01:19:05.363981",
     "status": "completed"
    },
    "tags": []
   },
   "outputs": [],
   "source": [
    "#Goal- take blurred images and predict what digit that image is.\n",
    "\n",
    "import numpy as np # linear algebra\n",
    "import pandas as pd # data processing\n",
    "import matplotlib.pyplot as plt # pyplot is for showing images"
   ]
  },
  {
   "cell_type": "code",
   "execution_count": 2,
   "id": "c8e6971b",
   "metadata": {
    "execution": {
     "iopub.execute_input": "2024-03-24T01:19:06.208689Z",
     "iopub.status.busy": "2024-03-24T01:19:06.207641Z",
     "iopub.status.idle": "2024-03-24T01:19:09.597055Z",
     "shell.execute_reply": "2024-03-24T01:19:09.596016Z"
    },
    "papermill": {
     "duration": 3.395594,
     "end_time": "2024-03-24T01:19:09.599692",
     "exception": false,
     "start_time": "2024-03-24T01:19:06.204098",
     "status": "completed"
    },
    "tags": []
   },
   "outputs": [],
   "source": [
    "data = pd.read_csv('/kaggle/input/digit-recognizer/train.csv')"
   ]
  },
  {
   "cell_type": "code",
   "execution_count": 3,
   "id": "c89f7dbb",
   "metadata": {
    "execution": {
     "iopub.execute_input": "2024-03-24T01:19:09.606754Z",
     "iopub.status.busy": "2024-03-24T01:19:09.605862Z",
     "iopub.status.idle": "2024-03-24T01:19:09.630986Z",
     "shell.execute_reply": "2024-03-24T01:19:09.629914Z"
    },
    "papermill": {
     "duration": 0.031129,
     "end_time": "2024-03-24T01:19:09.633390",
     "exception": false,
     "start_time": "2024-03-24T01:19:09.602261",
     "status": "completed"
    },
    "tags": []
   },
   "outputs": [
    {
     "data": {
      "text/html": [
       "<div>\n",
       "<style scoped>\n",
       "    .dataframe tbody tr th:only-of-type {\n",
       "        vertical-align: middle;\n",
       "    }\n",
       "\n",
       "    .dataframe tbody tr th {\n",
       "        vertical-align: top;\n",
       "    }\n",
       "\n",
       "    .dataframe thead th {\n",
       "        text-align: right;\n",
       "    }\n",
       "</style>\n",
       "<table border=\"1\" class=\"dataframe\">\n",
       "  <thead>\n",
       "    <tr style=\"text-align: right;\">\n",
       "      <th></th>\n",
       "      <th>label</th>\n",
       "      <th>pixel0</th>\n",
       "      <th>pixel1</th>\n",
       "      <th>pixel2</th>\n",
       "      <th>pixel3</th>\n",
       "      <th>pixel4</th>\n",
       "      <th>pixel5</th>\n",
       "      <th>pixel6</th>\n",
       "      <th>pixel7</th>\n",
       "      <th>pixel8</th>\n",
       "      <th>...</th>\n",
       "      <th>pixel774</th>\n",
       "      <th>pixel775</th>\n",
       "      <th>pixel776</th>\n",
       "      <th>pixel777</th>\n",
       "      <th>pixel778</th>\n",
       "      <th>pixel779</th>\n",
       "      <th>pixel780</th>\n",
       "      <th>pixel781</th>\n",
       "      <th>pixel782</th>\n",
       "      <th>pixel783</th>\n",
       "    </tr>\n",
       "  </thead>\n",
       "  <tbody>\n",
       "    <tr>\n",
       "      <th>0</th>\n",
       "      <td>1</td>\n",
       "      <td>0</td>\n",
       "      <td>0</td>\n",
       "      <td>0</td>\n",
       "      <td>0</td>\n",
       "      <td>0</td>\n",
       "      <td>0</td>\n",
       "      <td>0</td>\n",
       "      <td>0</td>\n",
       "      <td>0</td>\n",
       "      <td>...</td>\n",
       "      <td>0</td>\n",
       "      <td>0</td>\n",
       "      <td>0</td>\n",
       "      <td>0</td>\n",
       "      <td>0</td>\n",
       "      <td>0</td>\n",
       "      <td>0</td>\n",
       "      <td>0</td>\n",
       "      <td>0</td>\n",
       "      <td>0</td>\n",
       "    </tr>\n",
       "    <tr>\n",
       "      <th>1</th>\n",
       "      <td>0</td>\n",
       "      <td>0</td>\n",
       "      <td>0</td>\n",
       "      <td>0</td>\n",
       "      <td>0</td>\n",
       "      <td>0</td>\n",
       "      <td>0</td>\n",
       "      <td>0</td>\n",
       "      <td>0</td>\n",
       "      <td>0</td>\n",
       "      <td>...</td>\n",
       "      <td>0</td>\n",
       "      <td>0</td>\n",
       "      <td>0</td>\n",
       "      <td>0</td>\n",
       "      <td>0</td>\n",
       "      <td>0</td>\n",
       "      <td>0</td>\n",
       "      <td>0</td>\n",
       "      <td>0</td>\n",
       "      <td>0</td>\n",
       "    </tr>\n",
       "    <tr>\n",
       "      <th>2</th>\n",
       "      <td>1</td>\n",
       "      <td>0</td>\n",
       "      <td>0</td>\n",
       "      <td>0</td>\n",
       "      <td>0</td>\n",
       "      <td>0</td>\n",
       "      <td>0</td>\n",
       "      <td>0</td>\n",
       "      <td>0</td>\n",
       "      <td>0</td>\n",
       "      <td>...</td>\n",
       "      <td>0</td>\n",
       "      <td>0</td>\n",
       "      <td>0</td>\n",
       "      <td>0</td>\n",
       "      <td>0</td>\n",
       "      <td>0</td>\n",
       "      <td>0</td>\n",
       "      <td>0</td>\n",
       "      <td>0</td>\n",
       "      <td>0</td>\n",
       "    </tr>\n",
       "    <tr>\n",
       "      <th>3</th>\n",
       "      <td>4</td>\n",
       "      <td>0</td>\n",
       "      <td>0</td>\n",
       "      <td>0</td>\n",
       "      <td>0</td>\n",
       "      <td>0</td>\n",
       "      <td>0</td>\n",
       "      <td>0</td>\n",
       "      <td>0</td>\n",
       "      <td>0</td>\n",
       "      <td>...</td>\n",
       "      <td>0</td>\n",
       "      <td>0</td>\n",
       "      <td>0</td>\n",
       "      <td>0</td>\n",
       "      <td>0</td>\n",
       "      <td>0</td>\n",
       "      <td>0</td>\n",
       "      <td>0</td>\n",
       "      <td>0</td>\n",
       "      <td>0</td>\n",
       "    </tr>\n",
       "    <tr>\n",
       "      <th>4</th>\n",
       "      <td>0</td>\n",
       "      <td>0</td>\n",
       "      <td>0</td>\n",
       "      <td>0</td>\n",
       "      <td>0</td>\n",
       "      <td>0</td>\n",
       "      <td>0</td>\n",
       "      <td>0</td>\n",
       "      <td>0</td>\n",
       "      <td>0</td>\n",
       "      <td>...</td>\n",
       "      <td>0</td>\n",
       "      <td>0</td>\n",
       "      <td>0</td>\n",
       "      <td>0</td>\n",
       "      <td>0</td>\n",
       "      <td>0</td>\n",
       "      <td>0</td>\n",
       "      <td>0</td>\n",
       "      <td>0</td>\n",
       "      <td>0</td>\n",
       "    </tr>\n",
       "  </tbody>\n",
       "</table>\n",
       "<p>5 rows × 785 columns</p>\n",
       "</div>"
      ],
      "text/plain": [
       "   label  pixel0  pixel1  pixel2  pixel3  pixel4  pixel5  pixel6  pixel7  \\\n",
       "0      1       0       0       0       0       0       0       0       0   \n",
       "1      0       0       0       0       0       0       0       0       0   \n",
       "2      1       0       0       0       0       0       0       0       0   \n",
       "3      4       0       0       0       0       0       0       0       0   \n",
       "4      0       0       0       0       0       0       0       0       0   \n",
       "\n",
       "   pixel8  ...  pixel774  pixel775  pixel776  pixel777  pixel778  pixel779  \\\n",
       "0       0  ...         0         0         0         0         0         0   \n",
       "1       0  ...         0         0         0         0         0         0   \n",
       "2       0  ...         0         0         0         0         0         0   \n",
       "3       0  ...         0         0         0         0         0         0   \n",
       "4       0  ...         0         0         0         0         0         0   \n",
       "\n",
       "   pixel780  pixel781  pixel782  pixel783  \n",
       "0         0         0         0         0  \n",
       "1         0         0         0         0  \n",
       "2         0         0         0         0  \n",
       "3         0         0         0         0  \n",
       "4         0         0         0         0  \n",
       "\n",
       "[5 rows x 785 columns]"
      ]
     },
     "execution_count": 3,
     "metadata": {},
     "output_type": "execute_result"
    }
   ],
   "source": [
    "data.head()"
   ]
  },
  {
   "cell_type": "code",
   "execution_count": 4,
   "id": "3a23269c",
   "metadata": {
    "execution": {
     "iopub.execute_input": "2024-03-24T01:19:09.640937Z",
     "iopub.status.busy": "2024-03-24T01:19:09.640223Z",
     "iopub.status.idle": "2024-03-24T01:19:10.318798Z",
     "shell.execute_reply": "2024-03-24T01:19:10.317882Z"
    },
    "papermill": {
     "duration": 0.685164,
     "end_time": "2024-03-24T01:19:10.321377",
     "exception": false,
     "start_time": "2024-03-24T01:19:09.636213",
     "status": "completed"
    },
    "tags": []
   },
   "outputs": [],
   "source": [
    "#splitting the data into training and validation data\n",
    "data = np.array(data)\n",
    "m , n = data.shape             #m - amount of rows , n - amounts of colmnuns(features)+1\n",
    "np.random.shuffle(data)        # shuffle before splitting into dev and training sets\n",
    "\n",
    "split_index = int(m * 0.8)\n",
    "# Transpose the data slice from index 1 to 999 to prepare it for development and training sets\n",
    "data_val = data[split_index:m].T\n",
    "y_dev = data_val[0]            # Extract the first row as the development set labels\n",
    "x_dev = data_val[1:n]          # Extract the remaining rows as the development set features\n",
    "\n",
    "\n",
    "# Repeat the process for the training set, although it seems redundant since data_train is identical to data_val\n",
    "data_train = data[1:split_index].T\n",
    "y_train = data_train[0]\n",
    "x_train = data_train[1:n]\n",
    "\n"
   ]
  },
  {
   "cell_type": "code",
   "execution_count": 5,
   "id": "952fb163",
   "metadata": {
    "execution": {
     "iopub.execute_input": "2024-03-24T01:19:10.328853Z",
     "iopub.status.busy": "2024-03-24T01:19:10.328165Z",
     "iopub.status.idle": "2024-03-24T01:19:10.334855Z",
     "shell.execute_reply": "2024-03-24T01:19:10.333801Z"
    },
    "papermill": {
     "duration": 0.012843,
     "end_time": "2024-03-24T01:19:10.337097",
     "exception": false,
     "start_time": "2024-03-24T01:19:10.324254",
     "status": "completed"
    },
    "tags": []
   },
   "outputs": [
    {
     "data": {
      "text/plain": [
       "(784,)"
      ]
     },
     "execution_count": 5,
     "metadata": {},
     "output_type": "execute_result"
    }
   ],
   "source": [
    "x_train[:,0].shape"
   ]
  },
  {
   "cell_type": "code",
   "execution_count": 6,
   "id": "4b70af19",
   "metadata": {
    "execution": {
     "iopub.execute_input": "2024-03-24T01:19:10.344582Z",
     "iopub.status.busy": "2024-03-24T01:19:10.343899Z",
     "iopub.status.idle": "2024-03-24T01:19:10.351852Z",
     "shell.execute_reply": "2024-03-24T01:19:10.350813Z"
    },
    "papermill": {
     "duration": 0.014092,
     "end_time": "2024-03-24T01:19:10.354076",
     "exception": false,
     "start_time": "2024-03-24T01:19:10.339984",
     "status": "completed"
    },
    "tags": []
   },
   "outputs": [],
   "source": [
    "def init_parameter():\n",
    "    W1 = np.random.rand(10,784)-0.5\n",
    "    B1 = np.random.rand(10,1)-0.5\n",
    "    W2 = np.ranodom.rand(10,10)-0.5\n",
    "    B2 = np.random.rand(10,1)-0.5\n",
    "\n",
    "#Apply the Rectified Linear Unit (ReLU) activation function to the input z.\n",
    "# This function sets all negative elements of Z to 0 and keeps positive elements unchanged.\n",
    "def RelU(z):\n",
    "    return np.maximum(z)\n",
    "\n",
    "# Calculate the exponential of each element in the input array Z.\n",
    "def SoftMax(z):\n",
    "    A =  np.exp(Z) / sum(np.exp(Z))\n",
    "#returning the array of probabilities \n",
    "    return A\n",
    "\n",
    "def forward_propagation(W1,B1,W2,B2,X):\n",
    "    # Calculate the input signal for the first layer of neurons\n",
    "    Z1 = W1.dot(X) + b1\n",
    "    # Apply the ReLU function to determine the activity of the first layer\n",
    "    A1 = ReLU(Z1)\n",
    "    # Calculate the input signal for the second layer of neurons\n",
    "    Z2 = W2.dot(A1) + b2\n",
    "    # Apply the softmax function to get probabilities for the second layer\n",
    "    A2 = softmax(Z2)\n",
    "    return Z1, A1, Z2, A2\n",
    "    \n",
    "    \n",
    "    \n",
    "    "
   ]
  }
 ],
 "metadata": {
  "kaggle": {
   "accelerator": "none",
   "dataSources": [
    {
     "databundleVersionId": 861823,
     "sourceId": 3004,
     "sourceType": "competition"
    }
   ],
   "dockerImageVersionId": 30673,
   "isGpuEnabled": false,
   "isInternetEnabled": false,
   "language": "python",
   "sourceType": "notebook"
  },
  "kernelspec": {
   "display_name": "Python 3",
   "language": "python",
   "name": "python3"
  },
  "language_info": {
   "codemirror_mode": {
    "name": "ipython",
    "version": 3
   },
   "file_extension": ".py",
   "mimetype": "text/x-python",
   "name": "python",
   "nbconvert_exporter": "python",
   "pygments_lexer": "ipython3",
   "version": "3.10.13"
  },
  "papermill": {
   "default_parameters": {},
   "duration": 8.238266,
   "end_time": "2024-03-24T01:19:10.879248",
   "environment_variables": {},
   "exception": null,
   "input_path": "__notebook__.ipynb",
   "output_path": "__notebook__.ipynb",
   "parameters": {},
   "start_time": "2024-03-24T01:19:02.640982",
   "version": "2.5.0"
  }
 },
 "nbformat": 4,
 "nbformat_minor": 5
}
